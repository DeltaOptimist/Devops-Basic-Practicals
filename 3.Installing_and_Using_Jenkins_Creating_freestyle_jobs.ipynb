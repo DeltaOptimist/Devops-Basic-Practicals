{
  "nbformat": 4,
  "nbformat_minor": 0,
  "metadata": {
    "colab": {
      "provenance": []
    },
    "kernelspec": {
      "name": "python3",
      "display_name": "Python 3"
    },
    "language_info": {
      "name": "python"
    }
  },
  "cells": [
    {
      "cell_type": "code",
      "execution_count": null,
      "metadata": {
        "id": "uP3uX-nW71yq"
      },
      "outputs": [],
      "source": [
        "# Installing and Using Jenkins Creating freestyle jobs Automating a build with Git triggers"
      ]
    },
    {
      "cell_type": "code",
      "source": [
        "# Step 1: Define a fake Jenkins job (freestyle job config)"
      ],
      "metadata": {
        "id": "cMSqf9h076xX"
      },
      "execution_count": 1,
      "outputs": []
    },
    {
      "cell_type": "code",
      "source": [
        "%%writefile job_config.yml\n",
        "\n",
        "job_name: My_Freestyle_Job\n",
        "trigger: git\n",
        "steps:\n",
        "  - name: Build Project\n",
        "    run: echo \"🔨 Building project...\"\n",
        "  - name: Run Tests\n",
        "    run: pytest test_sample.py\n",
        "  - name: Deploy\n",
        "    run: echo \"🚀 Deployed successfully!\"\n"
      ],
      "metadata": {
        "colab": {
          "base_uri": "https://localhost:8080/"
        },
        "id": "myQyRNRn794A",
        "outputId": "4bc250ff-be30-4822-fea3-81f5b8e68620"
      },
      "execution_count": 2,
      "outputs": [
        {
          "output_type": "stream",
          "name": "stdout",
          "text": [
            "Writing job_config.yml\n"
          ]
        }
      ]
    },
    {
      "cell_type": "code",
      "source": [
        "# Step 2: Create sample Python project + tests"
      ],
      "metadata": {
        "id": "JRsa-Isr8Ayp"
      },
      "execution_count": 3,
      "outputs": []
    },
    {
      "cell_type": "code",
      "source": [
        "%%writefile app.py\n",
        "def multiply(a, b):\n",
        "    return a * b\n"
      ],
      "metadata": {
        "colab": {
          "base_uri": "https://localhost:8080/"
        },
        "id": "aHpYDTb58Fn8",
        "outputId": "f2edf0be-5475-4de5-df0b-044820a5edd9"
      },
      "execution_count": 4,
      "outputs": [
        {
          "output_type": "stream",
          "name": "stdout",
          "text": [
            "Writing app.py\n"
          ]
        }
      ]
    },
    {
      "cell_type": "code",
      "source": [
        "%%writefile test_sample.py\n",
        "from app import multiply\n",
        "\n",
        "def test_multiply():\n",
        "    assert multiply(2, 3) == 6\n",
        "    assert multiply(-1, 5) == -5\n"
      ],
      "metadata": {
        "colab": {
          "base_uri": "https://localhost:8080/"
        },
        "id": "frZozIEE8HPl",
        "outputId": "54fe251b-45b7-4cd9-9505-3678a6ffb01e"
      },
      "execution_count": 5,
      "outputs": [
        {
          "output_type": "stream",
          "name": "stdout",
          "text": [
            "Writing test_sample.py\n"
          ]
        }
      ]
    },
    {
      "cell_type": "code",
      "source": [
        "# Step 3: Jenkins Simulator in Python"
      ],
      "metadata": {
        "id": "-25NwDvi8LVF"
      },
      "execution_count": 6,
      "outputs": []
    },
    {
      "cell_type": "code",
      "source": [
        "import yaml\n",
        "import subprocess\n",
        "import random\n",
        "import time\n",
        "\n",
        "# ANSI colors\n",
        "GREEN = \"\\033[92m\"\n",
        "RED = \"\\033[91m\"\n",
        "YELLOW = \"\\033[93m\"\n",
        "BLUE = \"\\033[94m\"\n",
        "RESET = \"\\033[0m\"\n",
        "\n",
        "# Load job config\n",
        "with open(\"job_config.yml\") as f:\n",
        "    job = yaml.safe_load(f)\n",
        "\n",
        "def run_job():\n",
        "    print(f\"\\n{BLUE}=== Running Jenkins Job: {job['job_name']} ==={RESET}\")\n",
        "    for step in job[\"steps\"]:\n",
        "        print(f\"{YELLOW}-- Step: {step['name']} --{RESET}\")\n",
        "        result = subprocess.run(step[\"run\"], shell=True, capture_output=True, text=True)\n",
        "\n",
        "        if result.stdout.strip():\n",
        "            print(f\"{GREEN}{result.stdout}{RESET}\")\n",
        "\n",
        "        if result.returncode != 0:\n",
        "            print(f\"{RED}{result.stderr}{RESET}\")\n",
        "            print(f\"{RED}❌ Build failed!{RESET}\")\n",
        "            return False\n",
        "\n",
        "        print(f\"{GREEN}✅ Step succeeded{RESET}\\n\")\n",
        "    print(f\"{GREEN}🎉 Job {job['job_name']} finished successfully! 🚀{RESET}\")\n",
        "    return True\n",
        "\n",
        "# Simulate Git trigger: run job whenever a new \"commit\" happens\n",
        "print(\"🔄 Monitoring Git repo for changes...\")\n",
        "for i in range(3):  # simulate 3 checks\n",
        "    time.sleep(2)\n",
        "    new_commit = random.choice([True, False])\n",
        "    if new_commit:\n",
        "        print(f\"\\n📌 New commit detected! Triggering Jenkins job...\")\n",
        "        run_job()\n",
        "    else:\n",
        "        print(\"⏳ No new commits...\")\n"
      ],
      "metadata": {
        "colab": {
          "base_uri": "https://localhost:8080/"
        },
        "id": "zRs4goS68OOM",
        "outputId": "e62cb412-d5b7-4d54-9d87-8530692ee7cc"
      },
      "execution_count": 7,
      "outputs": [
        {
          "output_type": "stream",
          "name": "stdout",
          "text": [
            "🔄 Monitoring Git repo for changes...\n",
            "\n",
            "📌 New commit detected! Triggering Jenkins job...\n",
            "\n",
            "\u001b[94m=== Running Jenkins Job: My_Freestyle_Job ===\u001b[0m\n",
            "\u001b[93m-- Step: Build Project --\u001b[0m\n",
            "\u001b[92m🔨 Building project...\n",
            "\u001b[0m\n",
            "\u001b[92m✅ Step succeeded\u001b[0m\n",
            "\n",
            "\u001b[93m-- Step: Run Tests --\u001b[0m\n",
            "\u001b[92m============================= test session starts ==============================\n",
            "platform linux -- Python 3.12.11, pytest-8.4.1, pluggy-1.6.0\n",
            "rootdir: /content\n",
            "plugins: typeguard-4.4.4, langsmith-0.4.23, anyio-4.10.0\n",
            "collected 1 item\n",
            "\n",
            "test_sample.py .                                                         [100%]\n",
            "\n",
            "============================== 1 passed in 0.02s ===============================\n",
            "\u001b[0m\n",
            "\u001b[92m✅ Step succeeded\u001b[0m\n",
            "\n",
            "\u001b[93m-- Step: Deploy --\u001b[0m\n",
            "\u001b[92m🚀 Deployed successfully!\n",
            "\u001b[0m\n",
            "\u001b[92m✅ Step succeeded\u001b[0m\n",
            "\n",
            "\u001b[92m🎉 Job My_Freestyle_Job finished successfully! 🚀\u001b[0m\n",
            "⏳ No new commits...\n",
            "\n",
            "📌 New commit detected! Triggering Jenkins job...\n",
            "\n",
            "\u001b[94m=== Running Jenkins Job: My_Freestyle_Job ===\u001b[0m\n",
            "\u001b[93m-- Step: Build Project --\u001b[0m\n",
            "\u001b[92m🔨 Building project...\n",
            "\u001b[0m\n",
            "\u001b[92m✅ Step succeeded\u001b[0m\n",
            "\n",
            "\u001b[93m-- Step: Run Tests --\u001b[0m\n",
            "\u001b[92m============================= test session starts ==============================\n",
            "platform linux -- Python 3.12.11, pytest-8.4.1, pluggy-1.6.0\n",
            "rootdir: /content\n",
            "plugins: typeguard-4.4.4, langsmith-0.4.23, anyio-4.10.0\n",
            "collected 1 item\n",
            "\n",
            "test_sample.py .                                                         [100%]\n",
            "\n",
            "============================== 1 passed in 0.01s ===============================\n",
            "\u001b[0m\n",
            "\u001b[92m✅ Step succeeded\u001b[0m\n",
            "\n",
            "\u001b[93m-- Step: Deploy --\u001b[0m\n",
            "\u001b[92m🚀 Deployed successfully!\n",
            "\u001b[0m\n",
            "\u001b[92m✅ Step succeeded\u001b[0m\n",
            "\n",
            "\u001b[92m🎉 Job My_Freestyle_Job finished successfully! 🚀\u001b[0m\n"
          ]
        }
      ]
    },
    {
      "cell_type": "code",
      "source": [],
      "metadata": {
        "id": "kdAPPE0r8StI"
      },
      "execution_count": null,
      "outputs": []
    }
  ]
}