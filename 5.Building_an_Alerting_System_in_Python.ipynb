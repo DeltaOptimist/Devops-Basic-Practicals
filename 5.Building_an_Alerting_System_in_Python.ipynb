{
  "nbformat": 4,
  "nbformat_minor": 0,
  "metadata": {
    "colab": {
      "provenance": []
    },
    "kernelspec": {
      "name": "python3",
      "display_name": "Python 3"
    },
    "language_info": {
      "name": "python"
    }
  },
  "cells": [
    {
      "cell_type": "code",
      "execution_count": 1,
      "metadata": {
        "id": "IyVNHOrxIrRW"
      },
      "outputs": [],
      "source": [
        "# Building an Alerting System in Python"
      ]
    },
    {
      "cell_type": "markdown",
      "source": [
        "Step 1: Objective\n",
        "\n",
        "Monitor fake server metrics (CPU, Memory, Disk).\n",
        "\n",
        "Print metrics in logs with colored output.\n",
        "\n",
        "Raise alerts in RED if thresholds are crossed:\n",
        "\n",
        "CPU > 80%\n",
        "\n",
        "Memory > 85%\n",
        "\n",
        "Disk > 90%\n",
        "\n",
        "Save logs into a file (alerts.log)."
      ],
      "metadata": {
        "id": "s2WDs4TLIyhZ"
      }
    },
    {
      "cell_type": "code",
      "source": [
        "# Step 2: Setup ANSI Colors for Logs\n",
        "# ANSI colors for pretty logs\n",
        "GREEN = \"\\033[92m\"\n",
        "RED = \"\\033[91m\"\n",
        "YELLOW = \"\\033[93m\"\n",
        "BLUE = \"\\033[94m\"\n",
        "RESET = \"\\033[0m\"\n"
      ],
      "metadata": {
        "id": "sESUp5flIudf"
      },
      "execution_count": 2,
      "outputs": []
    },
    {
      "cell_type": "code",
      "source": [
        "# Step 3: Generate Fake Server Metrics\n",
        "\n",
        "import random\n",
        "\n",
        "def generate_metrics():\n",
        "    \"\"\"Simulate fake server metrics\"\"\"\n",
        "    cpu = random.randint(10, 100)      # CPU %\n",
        "    memory = random.randint(20, 100)  # Memory %\n",
        "    disk = random.randint(30, 100)    # Disk %\n",
        "    return cpu, memory, disk\n"
      ],
      "metadata": {
        "id": "7i5XGYgsI3Dy"
      },
      "execution_count": 3,
      "outputs": []
    },
    {
      "cell_type": "markdown",
      "source": [
        "Step 4: Create Logging Function\n",
        "\n",
        "This function will:\n",
        "\n",
        "-Print metrics\n",
        "\n",
        "-Print alerts if thresholds are crossed\n",
        "\n",
        "-Save everything to a log file"
      ],
      "metadata": {
        "id": "o3lzsufoJAeM"
      }
    },
    {
      "cell_type": "code",
      "source": [
        "import time\n",
        "\n",
        "def log_metrics(cpu, memory, disk, logfile=\"alerts.log\"):\n",
        "    \"\"\"Print metrics and log alerts to file\"\"\"\n",
        "    log_entry = f\"CPU={cpu}% | Memory={memory}% | Disk={disk}%\"\n",
        "\n",
        "    # Print metrics\n",
        "    print(f\"{BLUE}📊 Server Metrics:{RESET}\")\n",
        "    print(f\"   CPU Usage: {cpu}%\")\n",
        "    print(f\"   Memory Usage: {memory}%\")\n",
        "    print(f\"   Disk Usage: {disk}%\")\n",
        "\n",
        "    alerts = []\n",
        "    if cpu > 80:\n",
        "        alert = f\"⚠️ ALERT: High CPU usage detected ({cpu}%)!\"\n",
        "        print(f\"{RED}{alert}{RESET}\")\n",
        "        alerts.append(alert)\n",
        "    if memory > 85:\n",
        "        alert = f\"⚠️ ALERT: High Memory usage detected ({memory}%)!\"\n",
        "        print(f\"{RED}{alert}{RESET}\")\n",
        "        alerts.append(alert)\n",
        "    if disk > 90:\n",
        "        alert = f\"⚠️ ALERT: Disk space critical ({disk}%)!\"\n",
        "        print(f\"{RED}{alert}{RESET}\")\n",
        "        alerts.append(alert)\n",
        "\n",
        "    # Save to log file\n",
        "    with open(logfile, \"a\") as f:\n",
        "        f.write(log_entry + \"\\n\")\n",
        "        for alert in alerts:\n",
        "            f.write(\"ALERT: \" + alert + \"\\n\")\n",
        "\n",
        "    print(\"-\" * 50)\n"
      ],
      "metadata": {
        "id": "OKSF8yDUI-M7"
      },
      "execution_count": 4,
      "outputs": []
    },
    {
      "cell_type": "code",
      "source": [
        "# Step 5: Run the Monitoring Loop\n",
        "print(f\"{YELLOW}🚀 Starting Server Monitoring...{RESET}\")\n",
        "\n",
        "for i in range(10):   # monitor 10 times\n",
        "    cpu, memory, disk = generate_metrics()\n",
        "    log_metrics(cpu, memory, disk)\n",
        "    time.sleep(1)\n",
        "\n",
        "print(f\"{GREEN}✅ Monitoring finished!{RESET}\")\n"
      ],
      "metadata": {
        "colab": {
          "base_uri": "https://localhost:8080/"
        },
        "id": "Z58-rgxHJMQG",
        "outputId": "85c07498-b2c4-4b3f-b44a-4a75ed807fcd"
      },
      "execution_count": 5,
      "outputs": [
        {
          "output_type": "stream",
          "name": "stdout",
          "text": [
            "\u001b[93m🚀 Starting Server Monitoring...\u001b[0m\n",
            "\u001b[94m📊 Server Metrics:\u001b[0m\n",
            "   CPU Usage: 17%\n",
            "   Memory Usage: 70%\n",
            "   Disk Usage: 77%\n",
            "--------------------------------------------------\n",
            "\u001b[94m📊 Server Metrics:\u001b[0m\n",
            "   CPU Usage: 18%\n",
            "   Memory Usage: 21%\n",
            "   Disk Usage: 57%\n",
            "--------------------------------------------------\n",
            "\u001b[94m📊 Server Metrics:\u001b[0m\n",
            "   CPU Usage: 76%\n",
            "   Memory Usage: 26%\n",
            "   Disk Usage: 94%\n",
            "\u001b[91m⚠️ ALERT: Disk space critical (94%)!\u001b[0m\n",
            "--------------------------------------------------\n",
            "\u001b[94m📊 Server Metrics:\u001b[0m\n",
            "   CPU Usage: 60%\n",
            "   Memory Usage: 66%\n",
            "   Disk Usage: 45%\n",
            "--------------------------------------------------\n",
            "\u001b[94m📊 Server Metrics:\u001b[0m\n",
            "   CPU Usage: 59%\n",
            "   Memory Usage: 40%\n",
            "   Disk Usage: 55%\n",
            "--------------------------------------------------\n",
            "\u001b[94m📊 Server Metrics:\u001b[0m\n",
            "   CPU Usage: 52%\n",
            "   Memory Usage: 94%\n",
            "   Disk Usage: 98%\n",
            "\u001b[91m⚠️ ALERT: High Memory usage detected (94%)!\u001b[0m\n",
            "\u001b[91m⚠️ ALERT: Disk space critical (98%)!\u001b[0m\n",
            "--------------------------------------------------\n",
            "\u001b[94m📊 Server Metrics:\u001b[0m\n",
            "   CPU Usage: 38%\n",
            "   Memory Usage: 63%\n",
            "   Disk Usage: 33%\n",
            "--------------------------------------------------\n",
            "\u001b[94m📊 Server Metrics:\u001b[0m\n",
            "   CPU Usage: 24%\n",
            "   Memory Usage: 25%\n",
            "   Disk Usage: 93%\n",
            "\u001b[91m⚠️ ALERT: Disk space critical (93%)!\u001b[0m\n",
            "--------------------------------------------------\n",
            "\u001b[94m📊 Server Metrics:\u001b[0m\n",
            "   CPU Usage: 51%\n",
            "   Memory Usage: 96%\n",
            "   Disk Usage: 50%\n",
            "\u001b[91m⚠️ ALERT: High Memory usage detected (96%)!\u001b[0m\n",
            "--------------------------------------------------\n",
            "\u001b[94m📊 Server Metrics:\u001b[0m\n",
            "   CPU Usage: 89%\n",
            "   Memory Usage: 41%\n",
            "   Disk Usage: 89%\n",
            "\u001b[91m⚠️ ALERT: High CPU usage detected (89%)!\u001b[0m\n",
            "--------------------------------------------------\n",
            "\u001b[92m✅ Monitoring finished!\u001b[0m\n"
          ]
        }
      ]
    },
    {
      "cell_type": "code",
      "source": [
        "# Step 6: Check Logs in File\n",
        "\n",
        "# Show contents of the log file\n",
        "with open(\"alerts.log\", \"r\") as f:\n",
        "    logs = f.read()\n",
        "\n",
        "print(f\"{YELLOW}--- Log File Contents ---{RESET}\")\n",
        "print(logs)\n"
      ],
      "metadata": {
        "colab": {
          "base_uri": "https://localhost:8080/"
        },
        "id": "INfdgRxNJS_C",
        "outputId": "7d73842c-6406-4206-d108-b528e1c37621"
      },
      "execution_count": 6,
      "outputs": [
        {
          "output_type": "stream",
          "name": "stdout",
          "text": [
            "\u001b[93m--- Log File Contents ---\u001b[0m\n",
            "CPU=17% | Memory=70% | Disk=77%\n",
            "CPU=18% | Memory=21% | Disk=57%\n",
            "CPU=76% | Memory=26% | Disk=94%\n",
            "ALERT: ⚠️ ALERT: Disk space critical (94%)!\n",
            "CPU=60% | Memory=66% | Disk=45%\n",
            "CPU=59% | Memory=40% | Disk=55%\n",
            "CPU=52% | Memory=94% | Disk=98%\n",
            "ALERT: ⚠️ ALERT: High Memory usage detected (94%)!\n",
            "ALERT: ⚠️ ALERT: Disk space critical (98%)!\n",
            "CPU=38% | Memory=63% | Disk=33%\n",
            "CPU=24% | Memory=25% | Disk=93%\n",
            "ALERT: ⚠️ ALERT: Disk space critical (93%)!\n",
            "CPU=51% | Memory=96% | Disk=50%\n",
            "ALERT: ⚠️ ALERT: High Memory usage detected (96%)!\n",
            "CPU=89% | Memory=41% | Disk=89%\n",
            "ALERT: ⚠️ ALERT: High CPU usage detected (89%)!\n",
            "\n"
          ]
        }
      ]
    },
    {
      "cell_type": "code",
      "source": [],
      "metadata": {
        "id": "IFLbaEjIJae1"
      },
      "execution_count": null,
      "outputs": []
    }
  ]
}