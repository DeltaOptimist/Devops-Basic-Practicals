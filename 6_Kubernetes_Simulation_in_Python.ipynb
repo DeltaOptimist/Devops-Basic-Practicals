{
  "nbformat": 4,
  "nbformat_minor": 0,
  "metadata": {
    "colab": {
      "provenance": []
    },
    "kernelspec": {
      "name": "python3",
      "display_name": "Python 3"
    },
    "language_info": {
      "name": "python"
    }
  },
  "cells": [
    {
      "cell_type": "code",
      "execution_count": 1,
      "metadata": {
        "id": "8LZj0YRbKIc9"
      },
      "outputs": [],
      "source": [
        "# Kubernetes Simulation in Python"
      ]
    },
    {
      "cell_type": "markdown",
      "source": [
        "Objective:\n",
        "\n",
        "Define nodes, pods, and services in YAML.\n",
        "\n",
        "A Python script will assign pods to nodes.\n",
        "\n",
        "Print the cluster state (which pod runs on which node)."
      ],
      "metadata": {
        "id": "mU6IEtUGM5DS"
      }
    },
    {
      "cell_type": "code",
      "source": [
        "#Step 1: Define cluster in YAML"
      ],
      "metadata": {
        "id": "vpIyeaQHM0zN"
      },
      "execution_count": 2,
      "outputs": []
    },
    {
      "cell_type": "code",
      "source": [
        "%%writefile easy_cluster.yml\n",
        "nodes:\n",
        "  - name: node1\n",
        "    cpu: 2000\n",
        "    mem: 4096\n",
        "\n",
        "  - name: node2\n",
        "    cpu: 2000\n",
        "    mem: 4096\n",
        "\n",
        "pods:\n",
        "  - name: web\n",
        "    replicas: 3\n",
        "    cpu_request: 500\n",
        "    mem_request: 512\n",
        "\n",
        "  - name: db\n",
        "    replicas: 1\n",
        "    cpu_request: 1000\n",
        "    mem_request: 1024\n",
        "\n",
        "services:\n",
        "  - name: web-svc\n",
        "    selector: web\n",
        "    port: 80\n"
      ],
      "metadata": {
        "colab": {
          "base_uri": "https://localhost:8080/"
        },
        "id": "tKtmrlggM_kq",
        "outputId": "5aad6121-996a-412f-81eb-44c0e19ba871"
      },
      "execution_count": 3,
      "outputs": [
        {
          "output_type": "stream",
          "name": "stdout",
          "text": [
            "Writing easy_cluster.yml\n"
          ]
        }
      ]
    },
    {
      "cell_type": "code",
      "source": [
        "# Step 2: Python simulator\n",
        "\n",
        "import yaml\n",
        "\n",
        "# Load cluster definition\n",
        "with open(\"easy_cluster.yml\") as f:\n",
        "    config = yaml.safe_load(f)\n",
        "\n",
        "nodes = {n[\"name\"]: {\"cpu\": n[\"cpu\"], \"mem\": n[\"mem\"], \"pods\": []} for n in config[\"nodes\"]}\n",
        "\n",
        "pods = []\n",
        "for p in config[\"pods\"]:\n",
        "    for i in range(p[\"replicas\"]):\n",
        "        pods.append({\n",
        "            \"name\": f\"{p['name']}-{i}\",\n",
        "            \"cpu\": p[\"cpu_request\"],\n",
        "            \"mem\": p[\"mem_request\"],\n",
        "            \"template\": p[\"name\"],\n",
        "            \"node\": None\n",
        "        })\n",
        "\n",
        "# Simple scheduler: assign pods to first node with enough resources\n",
        "for pod in pods:\n",
        "    for node_name, node in nodes.items():\n",
        "        if node[\"cpu\"] >= pod[\"cpu\"] and node[\"mem\"] >= pod[\"mem\"]:\n",
        "            pod[\"node\"] = node_name\n",
        "            node[\"cpu\"] -= pod[\"cpu\"]\n",
        "            node[\"mem\"] -= pod[\"mem\"]\n",
        "            node[\"pods\"].append(pod[\"name\"])\n",
        "            break\n",
        "\n",
        "# Print cluster state\n",
        "print(\"=== Cluster State ===\")\n",
        "for node_name, node in nodes.items():\n",
        "    print(f\"\\nNode: {node_name}\")\n",
        "    print(f\"  Remaining CPU: {node['cpu']}, Remaining Mem: {node['mem']}\")\n",
        "    print(f\"  Pods: {node['pods']}\")\n",
        "\n",
        "print(\"\\n=== Services ===\")\n",
        "for svc in config[\"services\"]:\n",
        "    svc_pods = [p[\"name\"] for p in pods if p[\"template\"] == svc[\"selector\"] and p[\"node\"]]\n",
        "    print(f\"{svc['name']} -> Pods: {svc_pods}, Port: {svc['port']}\")\n"
      ],
      "metadata": {
        "colab": {
          "base_uri": "https://localhost:8080/"
        },
        "id": "jNWWBiUINCd4",
        "outputId": "93733e6c-0359-47c7-f7d1-bace04b53284"
      },
      "execution_count": 6,
      "outputs": [
        {
          "output_type": "stream",
          "name": "stdout",
          "text": [
            "=== Cluster State ===\n",
            "\n",
            "Node: node1\n",
            "  Remaining CPU: 500, Remaining Mem: 2560\n",
            "  Pods: ['web-0', 'web-1', 'web-2']\n",
            "\n",
            "Node: node2\n",
            "  Remaining CPU: 1000, Remaining Mem: 3072\n",
            "  Pods: ['db-0']\n",
            "\n",
            "=== Services ===\n",
            "web-svc -> Pods: ['web-0', 'web-1', 'web-2'], Port: 80\n"
          ]
        }
      ]
    },
    {
      "cell_type": "code",
      "source": [],
      "metadata": {
        "id": "gEzY39SMNIn0"
      },
      "execution_count": null,
      "outputs": []
    }
  ]
}