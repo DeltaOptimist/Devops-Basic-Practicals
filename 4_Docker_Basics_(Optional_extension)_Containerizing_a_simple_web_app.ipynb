{
  "nbformat": 4,
  "nbformat_minor": 0,
  "metadata": {
    "colab": {
      "provenance": []
    },
    "kernelspec": {
      "name": "python3",
      "display_name": "Python 3"
    },
    "language_info": {
      "name": "python"
    }
  },
  "cells": [
    {
      "cell_type": "code",
      "execution_count": 1,
      "metadata": {
        "id": "K2CYzxctAlBv"
      },
      "outputs": [],
      "source": [
        "# Docker Basics (Optional extension) Containerizing a simple web app"
      ]
    },
    {
      "cell_type": "code",
      "source": [
        "# Since we can’t run real Docker inside Google Colab (no root access, no Docker daemon),\n",
        "# the trick is to simulate Docker concepts with Python."
      ],
      "metadata": {
        "id": "NF-ASvOPArzh"
      },
      "execution_count": 2,
      "outputs": []
    },
    {
      "cell_type": "code",
      "source": [
        "# We’ll build a mini Docker simulator that shows:\n",
        "\n",
        "# Writing a simple web app (Flask).\n",
        "\n",
        "# Writing a fake Dockerfile.\n",
        "\n",
        "# Using Python to simulate docker build, docker run, and docker ps."
      ],
      "metadata": {
        "id": "AGrV79BBAxY3"
      },
      "execution_count": null,
      "outputs": []
    },
    {
      "cell_type": "code",
      "source": [
        "# Let’s extend the Docker simulation in Colab so you can actually access the Flask app in your browser.\n",
        "# Since Colab doesn’t allow direct access to localhost, we’ll use pyngrok to tunnel the app to a public URL."
      ],
      "metadata": {
        "id": "_hOOjxzkBDID"
      },
      "execution_count": 3,
      "outputs": []
    },
    {
      "cell_type": "code",
      "source": [
        "# Step 1: Install dependencies\n",
        "!pip install flask pyngrok --quiet"
      ],
      "metadata": {
        "id": "yps1wtcDBFO6"
      },
      "execution_count": 19,
      "outputs": []
    },
    {
      "cell_type": "code",
      "source": [
        "# Step 2: Store ngrok authtoken\n",
        "#Get your authtoken from ngrok dashboard link below\n",
        "#https://dashboard.ngrok.com/get-started/your-authtoken\n",
        "\n",
        "# 32PmYTjyVIRs8J8KQgtlvbFTXXl_5zanC2kSMth7MABEJqEGW"
      ],
      "metadata": {
        "id": "GBBfUHWGEViL"
      },
      "execution_count": 18,
      "outputs": []
    },
    {
      "cell_type": "code",
      "source": [
        "import os\n",
        "from pyngrok import ngrok\n",
        "\n",
        "# ⚡ Paste your ngrok authtoken here (from ngrok dashboard)\n",
        "NGROK_AUTH_TOKEN = \"32PmYTjyVIRs8J8KQgtlvbFTXXl_5zanC2kSMth7MABEJqEGW\"\n",
        "\n",
        "# Set the token\n",
        "ngrok.set_auth_token(NGROK_AUTH_TOKEN)\n"
      ],
      "metadata": {
        "id": "MoO1Asn6EW8j"
      },
      "execution_count": 20,
      "outputs": []
    },
    {
      "cell_type": "code",
      "source": [
        "# Step 3: Create a simple Flask app\n",
        "\n",
        "%%writefile app.py\n",
        "from flask import Flask\n",
        "\n",
        "app = Flask(__name__)\n",
        "\n",
        "@app.route(\"/\")\n",
        "def home():\n",
        "    return \"Hello from containerized app 🚀\"\n",
        "\n",
        "if __name__ == \"__main__\":\n",
        "    app.run(host=\"0.0.0.0\", port=5000)\n"
      ],
      "metadata": {
        "colab": {
          "base_uri": "https://localhost:8080/"
        },
        "id": "xArGHWb2FI6D",
        "outputId": "60bb776b-3969-414d-fbc9-5b8f5b0f4ac4"
      },
      "execution_count": 21,
      "outputs": [
        {
          "output_type": "stream",
          "name": "stdout",
          "text": [
            "Writing app.py\n"
          ]
        }
      ]
    },
    {
      "cell_type": "code",
      "source": [
        "# Step 4: Simulated Docker build & run with ngrok\n",
        "\n",
        "import time\n",
        "import subprocess\n",
        "\n",
        "# ANSI colors\n",
        "GREEN = \"\\033[92m\"\n",
        "BLUE = \"\\033[94m\"\n",
        "YELLOW = \"\\033[93m\"\n",
        "RED = \"\\033[91m\"\n",
        "RESET = \"\\033[0m\"\n",
        "\n",
        "# Simulated Docker build\n",
        "def docker_build(image_name):\n",
        "    print(f\"{BLUE}🔨 Building Docker image: {image_name}{RESET}\")\n",
        "    time.sleep(2)\n",
        "    print(f\"{GREEN}✅ Image {image_name} built successfully!{RESET}\")\n",
        "\n",
        "# Simulated Docker run (with ngrok tunnel)\n",
        "def docker_run(image_name, container_name, port=5000):\n",
        "    print(f\"{BLUE}▶️ Running container {container_name} from {image_name}{RESET}\")\n",
        "    public_url = ngrok.connect(port)  # no need to pass token here, already set\n",
        "    process = subprocess.Popen([\"python\", \"app.py\"])\n",
        "    print(f\"{GREEN}✅ Container {container_name} running at: {public_url}{RESET}\")\n",
        "    return process, public_url\n",
        "\n",
        "# Simulated Docker stop\n",
        "def docker_stop(process, container_name):\n",
        "    process.terminate()\n",
        "    print(f\"{RED}🛑 Container {container_name} stopped{RESET}\")\n"
      ],
      "metadata": {
        "id": "n8kpnTf1FRtz"
      },
      "execution_count": 22,
      "outputs": []
    },
    {
      "cell_type": "code",
      "source": [
        "# Step 5: Run the workflow\n",
        "docker_build(\"myapp:latest\")\n",
        "proc, url = docker_run(\"myapp:latest\", \"my_container\")\n",
        "\n",
        "print(f\"\\n🌍 Open your app here: {url}\")\n",
        "\n",
        "# Let it run for 60 seconds\n",
        "time.sleep(60)\n",
        "docker_stop(proc, \"my_container\")\n"
      ],
      "metadata": {
        "colab": {
          "base_uri": "https://localhost:8080/"
        },
        "id": "3w0nx8N6FXOw",
        "outputId": "2f2bd9cd-740c-49e2-93de-79097663e666"
      },
      "execution_count": 26,
      "outputs": [
        {
          "output_type": "stream",
          "name": "stdout",
          "text": [
            "\u001b[94m🔨 Building Docker image: myapp:latest\u001b[0m\n",
            "\u001b[92m✅ Image myapp:latest built successfully!\u001b[0m\n",
            "\u001b[94m▶️ Running container my_container from myapp:latest\u001b[0m\n",
            "\u001b[92m✅ Container my_container running at: NgrokTunnel: \"https://db6e83e5d497.ngrok-free.app\" -> \"http://localhost:5000\"\u001b[0m\n",
            "\n",
            "🌍 Open your app here: NgrokTunnel: \"https://db6e83e5d497.ngrok-free.app\" -> \"http://localhost:5000\"\n",
            "\u001b[91m🛑 Container my_container stopped\u001b[0m\n"
          ]
        }
      ]
    },
    {
      "cell_type": "code",
      "source": [],
      "metadata": {
        "id": "hwLhGMNNFbZb"
      },
      "execution_count": null,
      "outputs": []
    }
  ]
}