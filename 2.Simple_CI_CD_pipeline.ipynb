{
  "nbformat": 4,
  "nbformat_minor": 0,
  "metadata": {
    "colab": {
      "provenance": []
    },
    "kernelspec": {
      "name": "python3",
      "display_name": "Python 3"
    },
    "language_info": {
      "name": "python"
    }
  },
  "cells": [
    {
      "cell_type": "code",
      "execution_count": 1,
      "metadata": {
        "id": "G7D17Rhs4Wtt"
      },
      "outputs": [],
      "source": [
        "# Simple CI/CD pipeline using GitHub Actions Set up YAML-based GitHub Action to build and test code"
      ]
    },
    {
      "cell_type": "code",
      "source": [
        "# Step 1: Create a sample ci.yml workflow\n",
        "\n",
        "\n",
        "%%writefile ci.yml\n",
        "name: CI Pipeline\n",
        "\n",
        "on: [push]\n",
        "\n",
        "jobs:\n",
        "  build:\n",
        "    steps:\n",
        "      - name: Install dependencies\n",
        "        run: pip install pytest\n",
        "\n",
        "      - name: Build the project\n",
        "        run: echo \"Building project...\"\n",
        "\n",
        "  test:\n",
        "    steps:\n",
        "      - name: Run tests\n",
        "        run: pytest test_sample.py"
      ],
      "metadata": {
        "colab": {
          "base_uri": "https://localhost:8080/"
        },
        "id": "OKOmTAxR438Z",
        "outputId": "fdf35766-a358-42be-ed71-a06846f443ce"
      },
      "execution_count": 2,
      "outputs": [
        {
          "output_type": "stream",
          "name": "stdout",
          "text": [
            "Writing ci.yml\n"
          ]
        }
      ]
    },
    {
      "cell_type": "code",
      "source": [
        "# Step 2: Create a simple Python project with tests\n",
        "\n",
        "%%writefile app.py\n",
        "def add(a, b):\n",
        "    return a + b"
      ],
      "metadata": {
        "colab": {
          "base_uri": "https://localhost:8080/"
        },
        "id": "RK8q7jLA5K56",
        "outputId": "dadca95f-2449-4e10-e835-3843a1b15ecc"
      },
      "execution_count": 3,
      "outputs": [
        {
          "output_type": "stream",
          "name": "stdout",
          "text": [
            "Writing app.py\n"
          ]
        }
      ]
    },
    {
      "cell_type": "code",
      "source": [
        "\n",
        "%%writefile test_sample.py\n",
        "from app import add\n",
        "\n",
        "def test_add():\n",
        "    assert add(2, 3) == 5\n",
        "    assert add(-1, 1) == 0\n"
      ],
      "metadata": {
        "colab": {
          "base_uri": "https://localhost:8080/"
        },
        "id": "shfoEuyW5Qz5",
        "outputId": "ad4687a7-fc55-49df-c8f2-d9e8a133715c"
      },
      "execution_count": 4,
      "outputs": [
        {
          "output_type": "stream",
          "name": "stdout",
          "text": [
            "Writing test_sample.py\n"
          ]
        }
      ]
    },
    {
      "cell_type": "code",
      "source": [
        "# Step 3: Simulate the CI/CD runner in Python\n"
      ],
      "metadata": {
        "id": "QnkMO9Mv5WHE"
      },
      "execution_count": 5,
      "outputs": []
    },
    {
      "cell_type": "code",
      "source": [
        "import yaml\n",
        "import subprocess\n",
        "\n",
        "# Load workflow\n",
        "with open(\"ci.yml\") as f:\n",
        "    workflow = yaml.safe_load(f)\n",
        "\n",
        "jobs = workflow[\"jobs\"]\n",
        "\n",
        "for job, details in jobs.items():\n",
        "    print(f\"\\n=== Running job: {job.upper()} ===\")\n",
        "    steps = details[\"steps\"]\n",
        "    for step in steps:\n",
        "        print(f\"\\n-- Step: {step['name']} --\")\n",
        "        result = subprocess.run(step[\"run\"], shell=True, capture_output=True, text=True)\n",
        "        print(result.stdout)\n",
        "        if result.returncode != 0:\n",
        "            print(result.stderr)\n",
        "            print(\"❌ Job failed, stopping pipeline\")\n",
        "            exit(1)\n",
        "\n",
        "print(\"\\n✅ Pipeline finished successfully!\")\n"
      ],
      "metadata": {
        "colab": {
          "base_uri": "https://localhost:8080/"
        },
        "id": "8VNt-yAE7GPn",
        "outputId": "949b0633-8449-44a3-d232-287cad509e68"
      },
      "execution_count": 11,
      "outputs": [
        {
          "output_type": "stream",
          "name": "stdout",
          "text": [
            "\n",
            "=== Running job: BUILD ===\n",
            "\n",
            "-- Step: Install dependencies --\n",
            "Requirement already satisfied: pytest in /usr/local/lib/python3.12/dist-packages (8.4.1)\n",
            "Requirement already satisfied: iniconfig>=1 in /usr/local/lib/python3.12/dist-packages (from pytest) (2.1.0)\n",
            "Requirement already satisfied: packaging>=20 in /usr/local/lib/python3.12/dist-packages (from pytest) (25.0)\n",
            "Requirement already satisfied: pluggy<2,>=1.5 in /usr/local/lib/python3.12/dist-packages (from pytest) (1.6.0)\n",
            "Requirement already satisfied: pygments>=2.7.2 in /usr/local/lib/python3.12/dist-packages (from pytest) (2.19.2)\n",
            "\n",
            "\n",
            "-- Step: Build the project --\n",
            "Building project...\n",
            "\n",
            "\n",
            "=== Running job: TEST ===\n",
            "\n",
            "-- Step: Run tests --\n",
            "============================= test session starts ==============================\n",
            "platform linux -- Python 3.12.11, pytest-8.4.1, pluggy-1.6.0\n",
            "rootdir: /content\n",
            "plugins: typeguard-4.4.4, langsmith-0.4.23, anyio-4.10.0\n",
            "collected 1 item\n",
            "\n",
            "test_sample.py .                                                         [100%]\n",
            "\n",
            "============================== 1 passed in 0.01s ===============================\n",
            "\n",
            "\n",
            "=== Running job: DEPLOY ===\n",
            "\n",
            "-- Step: Deploy application --\n",
            "🚀 Deployed successfully!\n",
            "\n",
            "\n",
            "✅ Pipeline finished successfully!\n"
          ]
        }
      ]
    },
    {
      "cell_type": "code",
      "source": [
        "import yaml\n",
        "import subprocess\n",
        "\n",
        "# ANSI colors\n",
        "GREEN = \"\\033[92m\"\n",
        "RED = \"\\033[91m\"\n",
        "YELLOW = \"\\033[93m\"\n",
        "BLUE = \"\\033[94m\"\n",
        "RESET = \"\\033[0m\"\n",
        "\n",
        "# Load workflow\n",
        "with open(\"ci.yml\") as f:\n",
        "    workflow = yaml.safe_load(f)\n",
        "\n",
        "jobs = workflow[\"jobs\"]\n",
        "\n",
        "for job, details in jobs.items():\n",
        "    print(f\"\\n{BLUE}=== Running job: {job.upper()} ==={RESET}\")\n",
        "    steps = details[\"steps\"]\n",
        "    for step in steps:\n",
        "        print(f\"{YELLOW}-- Step: {step['name']} --{RESET}\")\n",
        "        result = subprocess.run(step[\"run\"], shell=True, capture_output=True, text=True)\n",
        "\n",
        "        if result.stdout.strip():\n",
        "            print(f\"{GREEN}{result.stdout}{RESET}\")\n",
        "\n",
        "        if result.returncode != 0:\n",
        "            print(f\"{RED}{result.stderr}{RESET}\")\n",
        "            print(f\"{RED}❌ Job {job} failed, stopping pipeline{RESET}\")\n",
        "            exit(1)\n",
        "\n",
        "        print(f\"{GREEN}✅ Step succeeded{RESET}\\n\")\n",
        "\n",
        "print(f\"\\n{GREEN}🎉 Pipeline finished successfully! 🚀{RESET}\")\n"
      ],
      "metadata": {
        "colab": {
          "base_uri": "https://localhost:8080/"
        },
        "id": "6eFYhOzT5zO_",
        "outputId": "b7d56702-14c1-4075-8cb8-b5e050a02767"
      },
      "execution_count": 7,
      "outputs": [
        {
          "output_type": "stream",
          "name": "stdout",
          "text": [
            "\n",
            "\u001b[94m=== Running job: BUILD ===\u001b[0m\n",
            "\u001b[93m-- Step: Install dependencies --\u001b[0m\n",
            "\u001b[92mRequirement already satisfied: pytest in /usr/local/lib/python3.12/dist-packages (8.4.1)\n",
            "Requirement already satisfied: iniconfig>=1 in /usr/local/lib/python3.12/dist-packages (from pytest) (2.1.0)\n",
            "Requirement already satisfied: packaging>=20 in /usr/local/lib/python3.12/dist-packages (from pytest) (25.0)\n",
            "Requirement already satisfied: pluggy<2,>=1.5 in /usr/local/lib/python3.12/dist-packages (from pytest) (1.6.0)\n",
            "Requirement already satisfied: pygments>=2.7.2 in /usr/local/lib/python3.12/dist-packages (from pytest) (2.19.2)\n",
            "\u001b[0m\n",
            "\u001b[92m✅ Step succeeded\u001b[0m\n",
            "\n",
            "\u001b[93m-- Step: Build the project --\u001b[0m\n",
            "\u001b[92mBuilding project...\n",
            "\u001b[0m\n",
            "\u001b[92m✅ Step succeeded\u001b[0m\n",
            "\n",
            "\n",
            "\u001b[94m=== Running job: TEST ===\u001b[0m\n",
            "\u001b[93m-- Step: Run tests --\u001b[0m\n",
            "\u001b[92m============================= test session starts ==============================\n",
            "platform linux -- Python 3.12.11, pytest-8.4.1, pluggy-1.6.0\n",
            "rootdir: /content\n",
            "plugins: typeguard-4.4.4, langsmith-0.4.23, anyio-4.10.0\n",
            "collected 1 item\n",
            "\n",
            "test_sample.py .                                                         [100%]\n",
            "\n",
            "============================== 1 passed in 0.01s ===============================\n",
            "\u001b[0m\n",
            "\u001b[92m✅ Step succeeded\u001b[0m\n",
            "\n",
            "\n",
            "\u001b[92m🎉 Pipeline finished successfully! 🚀\u001b[0m\n"
          ]
        }
      ]
    },
    {
      "cell_type": "code",
      "source": [
        "import yaml\n",
        "import subprocess\n",
        "import datetime\n",
        "\n",
        "# ANSI colors for console\n",
        "GREEN = \"\\033[92m\"\n",
        "RED = \"\\033[91m\"\n",
        "YELLOW = \"\\033[93m\"\n",
        "BLUE = \"\\033[94m\"\n",
        "RESET = \"\\033[0m\"\n",
        "\n",
        "# Log file\n",
        "log_file = \"pipeline.log\"\n",
        "\n",
        "def log_message(message, color=None):\n",
        "    \"\"\"Prints to console (with color) and saves to log file.\"\"\"\n",
        "    timestamp = datetime.datetime.now().strftime(\"[%Y-%m-%d %H:%M:%S]\")\n",
        "    plain_msg = f\"{timestamp} {message}\"\n",
        "\n",
        "    # Print with color (if given)\n",
        "    if color:\n",
        "        print(f\"{color}{message}{RESET}\")\n",
        "    else:\n",
        "        print(message)\n",
        "\n",
        "    # Append plain message to log file\n",
        "    with open(log_file, \"a\") as f:\n",
        "        f.write(plain_msg + \"\\n\")\n",
        "\n",
        "# Clear old logs\n",
        "open(log_file, \"w\").close()\n",
        "\n",
        "# Load workflow\n",
        "with open(\"ci.yml\") as f:\n",
        "    workflow = yaml.safe_load(f)\n",
        "\n",
        "jobs = workflow[\"jobs\"]\n",
        "\n",
        "for job, details in jobs.items():\n",
        "    log_message(f\"=== Running job: {job.upper()} ===\", BLUE)\n",
        "    steps = details[\"steps\"]\n",
        "    for step in steps:\n",
        "        log_message(f\"-- Step: {step['name']} --\", YELLOW)\n",
        "        result = subprocess.run(step[\"run\"], shell=True, capture_output=True, text=True)\n",
        "\n",
        "        if result.stdout.strip():\n",
        "            log_message(result.stdout.strip(), GREEN)\n",
        "\n",
        "        if result.returncode != 0:\n",
        "            log_message(result.stderr.strip(), RED)\n",
        "            log_message(f\"❌ Job {job} failed, stopping pipeline\", RED)\n",
        "            exit(1)\n",
        "\n",
        "        log_message(\"✅ Step succeeded\\n\", GREEN)\n",
        "\n",
        "log_message(\"🎉 Pipeline finished successfully! 🚀\", GREEN)\n"
      ],
      "metadata": {
        "colab": {
          "base_uri": "https://localhost:8080/"
        },
        "id": "7ipw_oul57yW",
        "outputId": "770ba82b-e4d0-46c6-ee73-8f6febb67fbe"
      },
      "execution_count": 8,
      "outputs": [
        {
          "output_type": "stream",
          "name": "stdout",
          "text": [
            "\u001b[94m=== Running job: BUILD ===\u001b[0m\n",
            "\u001b[93m-- Step: Install dependencies --\u001b[0m\n",
            "\u001b[92mRequirement already satisfied: pytest in /usr/local/lib/python3.12/dist-packages (8.4.1)\n",
            "Requirement already satisfied: iniconfig>=1 in /usr/local/lib/python3.12/dist-packages (from pytest) (2.1.0)\n",
            "Requirement already satisfied: packaging>=20 in /usr/local/lib/python3.12/dist-packages (from pytest) (25.0)\n",
            "Requirement already satisfied: pluggy<2,>=1.5 in /usr/local/lib/python3.12/dist-packages (from pytest) (1.6.0)\n",
            "Requirement already satisfied: pygments>=2.7.2 in /usr/local/lib/python3.12/dist-packages (from pytest) (2.19.2)\u001b[0m\n",
            "\u001b[92m✅ Step succeeded\n",
            "\u001b[0m\n",
            "\u001b[93m-- Step: Build the project --\u001b[0m\n",
            "\u001b[92mBuilding project...\u001b[0m\n",
            "\u001b[92m✅ Step succeeded\n",
            "\u001b[0m\n",
            "\u001b[94m=== Running job: TEST ===\u001b[0m\n",
            "\u001b[93m-- Step: Run tests --\u001b[0m\n",
            "\u001b[92m============================= test session starts ==============================\n",
            "platform linux -- Python 3.12.11, pytest-8.4.1, pluggy-1.6.0\n",
            "rootdir: /content\n",
            "plugins: typeguard-4.4.4, langsmith-0.4.23, anyio-4.10.0\n",
            "collected 1 item\n",
            "\n",
            "test_sample.py .                                                         [100%]\n",
            "\n",
            "============================== 1 passed in 0.01s ===============================\u001b[0m\n",
            "\u001b[92m✅ Step succeeded\n",
            "\u001b[0m\n",
            "\u001b[92m🎉 Pipeline finished successfully! 🚀\u001b[0m\n"
          ]
        }
      ]
    },
    {
      "cell_type": "code",
      "source": [],
      "metadata": {
        "id": "e-JRrpri65Lk"
      },
      "execution_count": null,
      "outputs": []
    }
  ]
}